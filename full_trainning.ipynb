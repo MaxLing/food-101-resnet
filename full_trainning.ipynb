{
 "cells": [
  {
   "cell_type": "code",
   "execution_count": 10,
   "metadata": {},
   "outputs": [
    {
     "ename": "ValueError",
     "evalue": "No model found in config file.",
     "traceback": [
      "\u001b[0;31m---------------------------------------------------------------------------\u001b[0m",
      "\u001b[0;31mValueError\u001b[0m                                Traceback (most recent call last)",
      "\u001b[0;32m<ipython-input-10-1f8b5b7956c6>\u001b[0m in \u001b[0;36m<module>\u001b[0;34m()\u001b[0m\n\u001b[1;32m     24\u001b[0m \u001b[0;34m\u001b[0m\u001b[0m\n\u001b[1;32m     25\u001b[0m \u001b[0;31m# load model\u001b[0m\u001b[0;34m\u001b[0m\u001b[0;34m\u001b[0m\u001b[0m\n\u001b[0;32m---> 26\u001b[0;31m \u001b[0mmodel_resnet50\u001b[0m \u001b[0;34m=\u001b[0m \u001b[0mmodels\u001b[0m\u001b[0;34m.\u001b[0m\u001b[0mload_model\u001b[0m\u001b[0;34m(\u001b[0m\u001b[0;34m'model/resnet50_2_full_rmspop.h5'\u001b[0m\u001b[0;34m)\u001b[0m\u001b[0;34m\u001b[0m\u001b[0m\n\u001b[0m\u001b[1;32m     27\u001b[0m \u001b[0;32mfor\u001b[0m \u001b[0mlayer\u001b[0m \u001b[0;32min\u001b[0m \u001b[0mmodel_resnet50\u001b[0m\u001b[0;34m.\u001b[0m\u001b[0mlayers\u001b[0m\u001b[0;34m[\u001b[0m\u001b[0;36m1\u001b[0m\u001b[0;34m]\u001b[0m\u001b[0;34m.\u001b[0m\u001b[0mlayers\u001b[0m\u001b[0;34m:\u001b[0m \u001b[0;31m# freeze or un-freeze resnet50\u001b[0m\u001b[0;34m\u001b[0m\u001b[0m\n\u001b[1;32m     28\u001b[0m     \u001b[0mlayer\u001b[0m\u001b[0;34m.\u001b[0m\u001b[0mtrainable\u001b[0m \u001b[0;34m=\u001b[0m \u001b[0;32mTrue\u001b[0m\u001b[0;34m\u001b[0m\u001b[0m\n",
      "\u001b[0;32m~/anaconda3/envs/tensorflow_p36/lib/python3.6/site-packages/keras/models.py\u001b[0m in \u001b[0;36mload_model\u001b[0;34m(filepath, custom_objects, compile)\u001b[0m\n\u001b[1;32m    236\u001b[0m         \u001b[0mmodel_config\u001b[0m \u001b[0;34m=\u001b[0m \u001b[0mf\u001b[0m\u001b[0;34m.\u001b[0m\u001b[0mattrs\u001b[0m\u001b[0;34m.\u001b[0m\u001b[0mget\u001b[0m\u001b[0;34m(\u001b[0m\u001b[0;34m'model_config'\u001b[0m\u001b[0;34m)\u001b[0m\u001b[0;34m\u001b[0m\u001b[0m\n\u001b[1;32m    237\u001b[0m         \u001b[0;32mif\u001b[0m \u001b[0mmodel_config\u001b[0m \u001b[0;32mis\u001b[0m \u001b[0;32mNone\u001b[0m\u001b[0;34m:\u001b[0m\u001b[0;34m\u001b[0m\u001b[0m\n\u001b[0;32m--> 238\u001b[0;31m             \u001b[0;32mraise\u001b[0m \u001b[0mValueError\u001b[0m\u001b[0;34m(\u001b[0m\u001b[0;34m'No model found in config file.'\u001b[0m\u001b[0;34m)\u001b[0m\u001b[0;34m\u001b[0m\u001b[0m\n\u001b[0m\u001b[1;32m    239\u001b[0m         \u001b[0mmodel_config\u001b[0m \u001b[0;34m=\u001b[0m \u001b[0mjson\u001b[0m\u001b[0;34m.\u001b[0m\u001b[0mloads\u001b[0m\u001b[0;34m(\u001b[0m\u001b[0mmodel_config\u001b[0m\u001b[0;34m.\u001b[0m\u001b[0mdecode\u001b[0m\u001b[0;34m(\u001b[0m\u001b[0;34m'utf-8'\u001b[0m\u001b[0;34m)\u001b[0m\u001b[0;34m)\u001b[0m\u001b[0;34m\u001b[0m\u001b[0m\n\u001b[1;32m    240\u001b[0m         \u001b[0mmodel\u001b[0m \u001b[0;34m=\u001b[0m \u001b[0mmodel_from_config\u001b[0m\u001b[0;34m(\u001b[0m\u001b[0mmodel_config\u001b[0m\u001b[0;34m,\u001b[0m \u001b[0mcustom_objects\u001b[0m\u001b[0;34m=\u001b[0m\u001b[0mcustom_objects\u001b[0m\u001b[0;34m)\u001b[0m\u001b[0;34m\u001b[0m\u001b[0m\n",
      "\u001b[0;31mValueError\u001b[0m: No model found in config file."
     ],
     "output_type": "error"
    }
   ],
   "source": [
    "# %load resnet50_food_101.py\n",
    "'''\n",
    "This is a trial on dataset ETHZ food 101\n",
    "This Neural Networks are developed in Python 3.5 and TensorFlow\n",
    "'''\n",
    "\n",
    "import numpy as np\n",
    "import tensorflow as tf\n",
    "import h5py\n",
    "\n",
    "## generator for loading data\n",
    "def generate_xy(path, batch_size):\n",
    "    while 1:\n",
    "        with h5py.File(path, 'r') as hf:\n",
    "            for i in range(0, len(hf[\"category\"]), batch_size):\n",
    "                x = np.array(hf[\"image\"][i:i+batch_size],dtype=np.uint8).reshape((-1,224,224,3))\n",
    "                y = np.eye(101,dtype=np.uint8)[hf[\"category\"][i:i+batch_size].reshape((-1,))]\n",
    "                yield (x, y)\n",
    "\n",
    "from keras.applications.resnet50 import ResNet50\n",
    "from keras import optimizers, metrics, models\n",
    "from keras.layers import Input, Flatten, Dense\n",
    "from keras.models import Model, model_from_json\n",
    "\n",
    "# load model\n",
    "model_resnet50 = models.load_model('model/resnet50_2_full_rmspop.h5')\n",
    "for layer in model_resnet50.layers[1].layers: # freeze or un-freeze resnet50\n",
    "    layer.trainable = True\n",
    "\n",
    "'''\n",
    "# model initialization (comment out after first save)\n",
    "#Get back the convolutional part of a resnet network trained on ImageNet\n",
    "model_resnet50_conv = ResNet50(weights='imagenet', include_top=False)\n",
    "for layer in model_resnet50_conv.layers: # freeze resnet50 for feature extraction\n",
    "    layer.trainable = False\n",
    "\n",
    "#Create your own input format\n",
    "input = Input(shape=(224,224,3),name = 'image_input')\n",
    "#Use the generated model\n",
    "output_resnet50_conv = model_resnet50_conv(input)\n",
    "\n",
    "#Add the fully-connected layers\n",
    "x = Flatten(name='flatten')(output_resnet50_conv)\n",
    "x = Dense(101, activation='softmax', name='predictions')(x)\n",
    "\n",
    "#Create your own model\n",
    "model_resnet50 = Model(input=input, output=x)\n",
    "'''\n",
    "\n",
    "# train and save model\n",
    "model_resnet50.compile(loss='categorical_crossentropy', optimizer=optimizers.RMSprop(lr=0.00001),\n",
    "                       metrics=[metrics.categorical_accuracy, metrics.top_k_categorical_accuracy])\n",
    "model_resnet50.fit_generator(generate_xy('own-data/food101_n80800_train_r224x224x3_raw.h5',batch_size=50), steps_per_epoch=1616, \n",
    "                             validation_data=generate_xy('own-data/food101_n20200_test_r224x224x3_raw.h5',batch_size=101), validation_steps=200,\n",
    "                             epochs=3, verbose=1, shuffle=True) # steps_per_epoch=data/batch size\n",
    "                            \n",
    "model_resnet50.save('model/resnet50_5_full_rmspop.h5')\n",
    "\n",
    "# # test\n",
    "# print(\"testing...\")\n",
    "# stat = model_resnet50.evaluate_generator(generate_xy('own-data/food101_n20200_test_r224x224x3_norm.h5',batch_size=101),steps=200)\n",
    "# print(\"loss:\", stat[0])\n",
    "# print(\"top 1 test accuracy:\", stat[1])\n",
    "# print(\"top 5 test accuracy:\", stat[2])\n"
   ]
  },
  {
   "cell_type": "code",
   "execution_count": null,
   "metadata": {},
   "outputs": [],
   "source": []
  },
  {
   "cell_type": "code",
   "execution_count": null,
   "metadata": {},
   "outputs": [],
   "source": []
  }
 ],
 "metadata": {
  "kernelspec": {
   "display_name": "Environment (conda_tensorflow_p36)",
   "language": "python",
   "name": "conda_tensorflow_p36"
  },
  "language_info": {
   "codemirror_mode": {
    "name": "ipython",
    "version": 3
   },
   "file_extension": ".py",
   "mimetype": "text/x-python",
   "name": "python",
   "nbconvert_exporter": "python",
   "pygments_lexer": "ipython3",
   "version": "3.6.3"
  }
 },
 "nbformat": 4,
 "nbformat_minor": 2
}
