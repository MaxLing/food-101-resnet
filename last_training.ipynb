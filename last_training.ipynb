{
 "cells": [
  {
   "cell_type": "code",
   "execution_count": null,
   "metadata": {},
   "outputs": [
    {
     "name": "stdout",
     "output_type": "stream",
     "text": [
      "Epoch 1/5\n",
      "800/800 [==============================] - 937s 1s/step - loss: 2.2229 - categorical_accuracy: 0.4625 - top_k_categorical_accuracy: 0.7157 - val_loss: 1.8353 - val_categorical_accuracy: 0.5487 - val_top_k_categorical_accuracy: 0.7934\n",
      "Epoch 2/5\n",
      "800/800 [==============================] - 849s 1s/step - loss: 1.6084 - categorical_accuracy: 0.5966 - top_k_categorical_accuracy: 0.8287 - val_loss: 1.7519 - val_categorical_accuracy: 0.5717 - val_top_k_categorical_accuracy: 0.8093\n",
      "Epoch 3/5\n",
      "800/800 [==============================] - 855s 1s/step - loss: 1.4232 - categorical_accuracy: 0.6419 - top_k_categorical_accuracy: 0.8568 - val_loss: 1.7357 - val_categorical_accuracy: 0.5796 - val_top_k_categorical_accuracy: 0.8167\n",
      "Epoch 4/5\n",
      "800/800 [==============================] - 860s 1s/step - loss: 1.3035 - categorical_accuracy: 0.6717 - top_k_categorical_accuracy: 0.8740 - val_loss: 1.7423 - val_categorical_accuracy: 0.5826 - val_top_k_categorical_accuracy: 0.8180\n",
      "Epoch 5/5\n",
      "799/800 [============================>.] - ETA: 0s - loss: 1.2148 - categorical_accuracy: 0.6949 - top_k_categorical_accuracy: 0.8862"
     ]
    }
   ],
   "source": [
    "# %load resnet50_food_101.py\n",
    "'''\n",
    "This is a trial on dataset ETHZ food 101\n",
    "This Neural Networks are developed in Python 3.5 and TensorFlow\n",
    "'''\n",
    "\n",
    "import numpy as np\n",
    "import tensorflow as tf\n",
    "import h5py\n",
    "\n",
    "## generator for loading data\n",
    "def generate_xy(path, batch_size):\n",
    "    while 1:\n",
    "        with h5py.File(path, 'r') as hf:\n",
    "            for i in range(0, len(hf[\"category\"]), batch_size):\n",
    "                x = np.array(hf[\"image\"][i:i+batch_size],dtype=np.uint8).reshape((-1,224,224,3))\n",
    "                y = np.eye(101,dtype=np.uint8)[hf[\"category\"][i:i+batch_size].reshape((-1,))]\n",
    "                yield (x, y)\n",
    "\n",
    "from keras.applications.resnet50 import ResNet50\n",
    "from keras import optimizers, metrics, models\n",
    "from keras.layers import Input, Flatten, Dense\n",
    "from keras.models import Model, model_from_json\n",
    "\n",
    "# load model\n",
    "model_resnet50 = models.load_model('model/resnet50_0.h5')\n",
    "for layer in model_resnet50.layers[1].layers: # freeze or un-freeze resnet50\n",
    "    layer.trainable = False\n",
    "# with open(\"model/resnet50_full.json\", \"r\") as json_file:\n",
    "#    model_resnet50 = model_from_json(json_file.read())\n",
    "# model_resnet50.load_weights(\"model/resnet50_5_raw_rmspop_full.h5\")\n",
    "\n",
    "'''\n",
    "# model initialization (comment out after first save)\n",
    "#Get back the convolutional part of a resnet network trained on ImageNet\n",
    "model_resnet50_conv = ResNet50(weights='imagenet', include_top=False)\n",
    "\n",
    "#Create your own input format\n",
    "input = Input(shape=(224,224,3),name = 'image_input')\n",
    "#Use the generated model\n",
    "output_resnet50_conv = model_resnet50_conv(input)\n",
    "\n",
    "#Add the fully-connected layers\n",
    "x = Flatten(name='flatten')(output_resnet50_conv)\n",
    "x = Dense(101, activation='softmax', name='predictions')(x)\n",
    "\n",
    "#Create your own model\n",
    "model_resnet50 = Model(input=input, output=x)\n",
    "'''\n",
    "# train and save model\n",
    "#model_resnet50.fit(x_train,y_train,batch_size=10,epochs=1,shuffle=True,verbose=2) #validation_data=(x_test, y_test)\n",
    "model_resnet50.compile(loss='categorical_crossentropy', optimizer='RMSProp',\n",
    "                       metrics=[metrics.categorical_accuracy, metrics.top_k_categorical_accuracy])\n",
    "model_resnet50.fit_generator(generate_xy('own-data/food101_n80800_train_r224x224x3_norm.h5',batch_size=101),\n",
    "                             validation_data=generate_xy('own-data/food101_n20200_test_r224x224x3_norm.h5',batch_size=101), validation_steps=200,\n",
    "                             steps_per_epoch=800, epochs=5, verbose=1, shuffle=True) # steps_per_epoch=data/batch size\n",
    "\n",
    "model_resnet50.save('model/resnet50_5_norm_rmspop.h5')\n",
    "#with open(\"model/resnet50.json\", \"w\") as json_file:\n",
    "#    json_file.write(model_resnet50.to_json())\n",
    "#model_resnet50.save_weights(\"model/resnet50.h5\")\n",
    "\n",
    "# # test\n",
    "# stat = model_resnet50.evaluate_generator(generate_xy('own-data/food101_n20200_test_r224x224x3_norm.h5',batch_size=101),steps=200)\n",
    "# print(\"loss:\", stat[0])\n",
    "# print(\"top 1 test accuracy:\", stat[1])\n",
    "# print(\"top 5 test accuracy:\", stat[2])\n"
   ]
  },
  {
   "cell_type": "code",
   "execution_count": null,
   "metadata": {},
   "outputs": [],
   "source": []
  }
 ],
 "metadata": {
  "kernelspec": {
   "display_name": "Environment (conda_tensorflow_p36)",
   "language": "python",
   "name": "conda_tensorflow_p36"
  },
  "language_info": {
   "codemirror_mode": {
    "name": "ipython",
    "version": 3
   },
   "file_extension": ".py",
   "mimetype": "text/x-python",
   "name": "python",
   "nbconvert_exporter": "python",
   "pygments_lexer": "ipython3",
   "version": "3.6.3"
  }
 },
 "nbformat": 4,
 "nbformat_minor": 2
}
